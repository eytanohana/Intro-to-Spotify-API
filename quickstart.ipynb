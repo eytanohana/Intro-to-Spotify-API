{
 "cells": [
  {
   "cell_type": "code",
   "execution_count": 1,
   "metadata": {},
   "outputs": [],
   "source": [
    "import spotipy\n",
    "import spotipy.util as util\n",
    "import os\n",
    "from json import load\n",
    "\n",
    "# make the notebook automatically reload external python modules\n",
    "%load_ext autoreload\n",
    "%autoreload 2"
   ]
  },
  {
   "cell_type": "markdown",
   "metadata": {},
   "source": [
    "# Retrieving our credentials\n",
    "Before you can get started you need to head over to <https://developer.spotify.com/dashboard/> and create an app in order to be able to get an authorization token to be able to connect to your account. I put a tutorial on how to do this in the README if you haven't already seen it. If you've already done this step, then all you need to do is save the client id, client secret, redirect uri, and your spotify username into a dictionary.\n",
    "```\n",
    "creds = {'client_id': 'YOUR CLIENT ID', 'client_secret': 'YOUR CLIENT SECRET', \n",
    "        'redirect_uri': 'http://localhost/', 'username': 'YOUR USERNAME'}\n",
    "```       \n",
    "I've saved mine into a text file credentials.txt so others can't gain access to my account so for your purposes you can ignore the cell directly below. I;m just loading the dictionary from the pre-saved text file.\n"
   ]
  },
  {
   "cell_type": "code",
   "execution_count": 2,
   "metadata": {},
   "outputs": [],
   "source": [
    "with open('credentials.txt') as fd:\n",
    "    creds = load(fd)"
   ]
  },
  {
   "cell_type": "markdown",
   "metadata": {},
   "source": [
    "## SCOPE\n",
    "\n",
    "You can define a scope which tells your application how much visibility/access you want to your account. Meaning different scopes give you different permissions. Some allow you to modify playlists while others only grant you reading abilities. You can read all about scopes [here](https://developer.spotify.com/documentation/general/guides/scopes/)"
   ]
  },
  {
   "cell_type": "code",
   "execution_count": 3,
   "metadata": {},
   "outputs": [],
   "source": [
    "# For the purposes of this notebook we only want to read from a users library\n",
    "scope = 'user-library-read'"
   ]
  },
  {
   "cell_type": "markdown",
   "metadata": {},
   "source": [
    "Now that we have our scope and credentials defined we can finally get our token in order to create our Spotiy object."
   ]
  },
  {
   "cell_type": "code",
   "execution_count": 4,
   "metadata": {},
   "outputs": [],
   "source": [
    "def get_token(scope, **kwargs):\n",
    "    try:\n",
    "        token = util.prompt_for_user_token(**kwargs, scope=scope)\n",
    "    except:\n",
    "        os.remove(f\".cache-{kwargs['username']}\")\n",
    "        token = util.prompt_for_user_token(**kwargs, scope=scope)\n",
    "    return token"
   ]
  },
  {
   "cell_type": "code",
   "execution_count": 5,
   "metadata": {},
   "outputs": [],
   "source": [
    "token = get_token(scope, **creds)"
   ]
  },
  {
   "cell_type": "code",
   "execution_count": 6,
   "metadata": {},
   "outputs": [],
   "source": [
    "# Now that we have our token we can create our Spotify object.\n",
    "sp = spotipy.Spotify(auth=token)"
   ]
  },
  {
   "cell_type": "code",
   "execution_count": 7,
   "metadata": {},
   "outputs": [],
   "source": [
    "# some of the methods require the user id so its a good idea to save it now \n",
    "user = sp.current_user()\n",
    "user_id = user['id']"
   ]
  },
  {
   "cell_type": "markdown",
   "metadata": {},
   "source": [
    "Now that we have everything we need we can use sp.search to search for tracks, albums, playlists, or artists by name."
   ]
  },
  {
   "cell_type": "code",
   "execution_count": 8,
   "metadata": {
    "scrolled": true
   },
   "outputs": [
    {
     "data": {
      "text/plain": [
       "{'playlists': {'href': 'https://api.spotify.com/v1/search?query=Jazz+Vibes&type=playlist&market=US&offset=0&limit=10',\n",
       "  'items': [{'collaborative': False,\n",
       "    'external_urls': {'spotify': 'https://open.spotify.com/playlist/37i9dQZF1DX0SM0LYsmbMT'},\n",
       "    'href': 'https://api.spotify.com/v1/playlists/37i9dQZF1DX0SM0LYsmbMT',\n",
       "    'id': '37i9dQZF1DX0SM0LYsmbMT',\n",
       "    'images': [{'height': None,\n",
       "      'url': 'https://pl.scdn.co/images/pl/default/d376cd0266b552035f73c458face3ddf88a7761e',\n",
       "      'width': None}],\n",
       "    'name': 'Jazz Vibes',\n",
       "    'owner': {'display_name': 'Spotify',\n",
       "     'external_urls': {'spotify': 'https://open.spotify.com/user/spotify'},\n",
       "     'href': 'https://api.spotify.com/v1/users/spotify',\n",
       "     'id': 'spotify',\n",
       "     'type': 'user',\n",
       "     'uri': 'spotify:user:spotify'},\n",
       "    'primary_color': None,\n",
       "    'public': None,\n",
       "    'snapshot_id': 'MTU2NDc0MTU4MywwMDAwMDExZjAwMDAwMTZjNTFkZGMzZDQwMDAwMDE2ODk5YTUyM2Zj',\n",
       "    'tracks': {'href': 'https://api.spotify.com/v1/playlists/37i9dQZF1DX0SM0LYsmbMT/tracks',\n",
       "     'total': 200},\n",
       "    'type': 'playlist',\n",
       "    'uri': 'spotify:playlist:37i9dQZF1DX0SM0LYsmbMT'},\n",
       "   {'collaborative': False,\n",
       "    'external_urls': {'spotify': 'https://open.spotify.com/playlist/37i9dQZF1DXdTVYB0r28zn'},\n",
       "    'href': 'https://api.spotify.com/v1/playlists/37i9dQZF1DXdTVYB0r28zn',\n",
       "    'id': '37i9dQZF1DXdTVYB0r28zn',\n",
       "    'images': [{'height': None,\n",
       "      'url': 'https://pl.scdn.co/images/pl/default/26a7647f7f45bd53abf974499aa402328b91005e',\n",
       "      'width': None}],\n",
       "    'name': 'New York Jazz Vibes',\n",
       "    'owner': {'display_name': 'Spotify',\n",
       "     'external_urls': {'spotify': 'https://open.spotify.com/user/spotify'},\n",
       "     'href': 'https://api.spotify.com/v1/users/spotify',\n",
       "     'id': 'spotify',\n",
       "     'type': 'user',\n",
       "     'uri': 'spotify:user:spotify'},\n",
       "    'primary_color': None,\n",
       "    'public': None,\n",
       "    'snapshot_id': 'MTU0ODc1MDAyMywwMDAwMDAwNTAwMDAwMTViMzk3NDE0MWEwMDAwMDE2ODk4YjFlYzY2',\n",
       "    'tracks': {'href': 'https://api.spotify.com/v1/playlists/37i9dQZF1DXdTVYB0r28zn/tracks',\n",
       "     'total': 19},\n",
       "    'type': 'playlist',\n",
       "    'uri': 'spotify:playlist:37i9dQZF1DXdTVYB0r28zn'},\n",
       "   {'collaborative': False,\n",
       "    'external_urls': {'spotify': 'https://open.spotify.com/playlist/2YrtM5nN2tpRuT86YTGwdy'},\n",
       "    'href': 'https://api.spotify.com/v1/playlists/2YrtM5nN2tpRuT86YTGwdy',\n",
       "    'id': '2YrtM5nN2tpRuT86YTGwdy',\n",
       "    'images': [{'height': 640,\n",
       "      'url': 'https://mosaic.scdn.co/640/0787d96bf63323c10a20a5a53868078ce1eda31c438f8fe8bfe4a6f99a86a2707b3023c918cab75b884f1d7a1c1e3dbac8f95273e3c26006be60b1de944b9af8b0a776ceca1f0a71bdda0aea86d89a36',\n",
       "      'width': 640},\n",
       "     {'height': 300,\n",
       "      'url': 'https://mosaic.scdn.co/300/0787d96bf63323c10a20a5a53868078ce1eda31c438f8fe8bfe4a6f99a86a2707b3023c918cab75b884f1d7a1c1e3dbac8f95273e3c26006be60b1de944b9af8b0a776ceca1f0a71bdda0aea86d89a36',\n",
       "      'width': 300},\n",
       "     {'height': 60,\n",
       "      'url': 'https://mosaic.scdn.co/60/0787d96bf63323c10a20a5a53868078ce1eda31c438f8fe8bfe4a6f99a86a2707b3023c918cab75b884f1d7a1c1e3dbac8f95273e3c26006be60b1de944b9af8b0a776ceca1f0a71bdda0aea86d89a36',\n",
       "      'width': 60}],\n",
       "    'name': 'Upbeat Jazz Vibes',\n",
       "    'owner': {'display_name': 'Jessika Sheffield',\n",
       "     'external_urls': {'spotify': 'https://open.spotify.com/user/jessikasheffield'},\n",
       "     'href': 'https://api.spotify.com/v1/users/jessikasheffield',\n",
       "     'id': 'jessikasheffield',\n",
       "     'type': 'user',\n",
       "     'uri': 'spotify:user:jessikasheffield'},\n",
       "    'primary_color': None,\n",
       "    'public': None,\n",
       "    'snapshot_id': 'NjMsMTgxODgwOWI3Mjg5ZTMxZmVhYmM2MjkwOTczMTE0M2Q4YjE2NjQ5Yg==',\n",
       "    'tracks': {'href': 'https://api.spotify.com/v1/playlists/2YrtM5nN2tpRuT86YTGwdy/tracks',\n",
       "     'total': 61},\n",
       "    'type': 'playlist',\n",
       "    'uri': 'spotify:playlist:2YrtM5nN2tpRuT86YTGwdy'},\n",
       "   {'collaborative': False,\n",
       "    'external_urls': {'spotify': 'https://open.spotify.com/playlist/54QS8OeazSCtu1hAqBCP6c'},\n",
       "    'href': 'https://api.spotify.com/v1/playlists/54QS8OeazSCtu1hAqBCP6c',\n",
       "    'id': '54QS8OeazSCtu1hAqBCP6c',\n",
       "    'images': [{'height': 640,\n",
       "      'url': 'https://mosaic.scdn.co/640/119bdb34ad3b8d79d2b0d8b462c273f3dbd62db12a71109a747930ca8899f486ebec7730b9531b8c6d675937db003a53245ddd160bf5386a1380049ead77b6d60e4930a4308edbdea57ac154c7906b5f',\n",
       "      'width': 640},\n",
       "     {'height': 300,\n",
       "      'url': 'https://mosaic.scdn.co/300/119bdb34ad3b8d79d2b0d8b462c273f3dbd62db12a71109a747930ca8899f486ebec7730b9531b8c6d675937db003a53245ddd160bf5386a1380049ead77b6d60e4930a4308edbdea57ac154c7906b5f',\n",
       "      'width': 300},\n",
       "     {'height': 60,\n",
       "      'url': 'https://mosaic.scdn.co/60/119bdb34ad3b8d79d2b0d8b462c273f3dbd62db12a71109a747930ca8899f486ebec7730b9531b8c6d675937db003a53245ddd160bf5386a1380049ead77b6d60e4930a4308edbdea57ac154c7906b5f',\n",
       "      'width': 60}],\n",
       "    'name': 'Jazz House Vibes',\n",
       "    'owner': {'display_name': 'Anita Chandler',\n",
       "     'external_urls': {'spotify': 'https://open.spotify.com/user/22dfrwcm54dgbxxtxiulmyyiy'},\n",
       "     'href': 'https://api.spotify.com/v1/users/22dfrwcm54dgbxxtxiulmyyiy',\n",
       "     'id': '22dfrwcm54dgbxxtxiulmyyiy',\n",
       "     'type': 'user',\n",
       "     'uri': 'spotify:user:22dfrwcm54dgbxxtxiulmyyiy'},\n",
       "    'primary_color': None,\n",
       "    'public': None,\n",
       "    'snapshot_id': 'MTE3OCw4NDgxZmZmYjM1M2Q0ZjZlODE2OGU1ODJiNDA5ODUyNjNlZjJlODY1',\n",
       "    'tracks': {'href': 'https://api.spotify.com/v1/playlists/54QS8OeazSCtu1hAqBCP6c/tracks',\n",
       "     'total': 1181},\n",
       "    'type': 'playlist',\n",
       "    'uri': 'spotify:playlist:54QS8OeazSCtu1hAqBCP6c'},\n",
       "   {'collaborative': False,\n",
       "    'external_urls': {'spotify': 'https://open.spotify.com/playlist/5EWy32jHt8MYQXrD7XHkZY'},\n",
       "    'href': 'https://api.spotify.com/v1/playlists/5EWy32jHt8MYQXrD7XHkZY',\n",
       "    'id': '5EWy32jHt8MYQXrD7XHkZY',\n",
       "    'images': [{'height': None,\n",
       "      'url': 'https://pl.scdn.co/images/pl/default/8f9c0c28c6c56f5fc0a45d0f57de45e71f092fd1',\n",
       "      'width': None}],\n",
       "    'name': 'Jazz Vibes (Clean)',\n",
       "    'owner': {'display_name': 'Ammon Rose',\n",
       "     'external_urls': {'spotify': 'https://open.spotify.com/user/powerpandagaming'},\n",
       "     'href': 'https://api.spotify.com/v1/users/powerpandagaming',\n",
       "     'id': 'powerpandagaming',\n",
       "     'type': 'user',\n",
       "     'uri': 'spotify:user:powerpandagaming'},\n",
       "    'primary_color': None,\n",
       "    'public': None,\n",
       "    'snapshot_id': 'MzAxLGM5ZTFkMmQyNDhhOGEyMGY2MzRkMmU3M2M1ZGQyMGExMzk2ZTRmMWQ=',\n",
       "    'tracks': {'href': 'https://api.spotify.com/v1/playlists/5EWy32jHt8MYQXrD7XHkZY/tracks',\n",
       "     'total': 280},\n",
       "    'type': 'playlist',\n",
       "    'uri': 'spotify:playlist:5EWy32jHt8MYQXrD7XHkZY'},\n",
       "   {'collaborative': False,\n",
       "    'external_urls': {'spotify': 'https://open.spotify.com/playlist/6vrb6GBhQkWbdgesViTjxc'},\n",
       "    'href': 'https://api.spotify.com/v1/playlists/6vrb6GBhQkWbdgesViTjxc',\n",
       "    'id': '6vrb6GBhQkWbdgesViTjxc',\n",
       "    'images': [{'height': 640,\n",
       "      'url': 'https://mosaic.scdn.co/640/3ecc9a52c64b488cb85f605a2aaed0ac30573d2a6cbac1ef18778e6ca585365030f74022a210c92f7655e248e9391a6ee949607b8542cbf0d1278fb699276f7fa7526c8030431ebb83e7e4ea0bb4b3e1',\n",
       "      'width': 640},\n",
       "     {'height': 300,\n",
       "      'url': 'https://mosaic.scdn.co/300/3ecc9a52c64b488cb85f605a2aaed0ac30573d2a6cbac1ef18778e6ca585365030f74022a210c92f7655e248e9391a6ee949607b8542cbf0d1278fb699276f7fa7526c8030431ebb83e7e4ea0bb4b3e1',\n",
       "      'width': 300},\n",
       "     {'height': 60,\n",
       "      'url': 'https://mosaic.scdn.co/60/3ecc9a52c64b488cb85f605a2aaed0ac30573d2a6cbac1ef18778e6ca585365030f74022a210c92f7655e248e9391a6ee949607b8542cbf0d1278fb699276f7fa7526c8030431ebb83e7e4ea0bb4b3e1',\n",
       "      'width': 60}],\n",
       "    'name': 'Lobby Music - Jazz Vibes',\n",
       "    'owner': {'display_name': 'Visitor Services',\n",
       "     'external_urls': {'spotify': 'https://open.spotify.com/user/t12t4ynawwfaslg9uvax8qurt'},\n",
       "     'href': 'https://api.spotify.com/v1/users/t12t4ynawwfaslg9uvax8qurt',\n",
       "     'id': 't12t4ynawwfaslg9uvax8qurt',\n",
       "     'type': 'user',\n",
       "     'uri': 'spotify:user:t12t4ynawwfaslg9uvax8qurt'},\n",
       "    'primary_color': None,\n",
       "    'public': None,\n",
       "    'snapshot_id': 'MTgyLGMzM2NmYTJiNDc0NDRjODhiNDczNDdlMzI2YWQ0MGRlN2I3MDdhMmY=',\n",
       "    'tracks': {'href': 'https://api.spotify.com/v1/playlists/6vrb6GBhQkWbdgesViTjxc/tracks',\n",
       "     'total': 178},\n",
       "    'type': 'playlist',\n",
       "    'uri': 'spotify:playlist:6vrb6GBhQkWbdgesViTjxc'},\n",
       "   {'collaborative': False,\n",
       "    'external_urls': {'spotify': 'https://open.spotify.com/playlist/0WiVOUns047vLLJ4Dr4pgl'},\n",
       "    'href': 'https://api.spotify.com/v1/playlists/0WiVOUns047vLLJ4Dr4pgl',\n",
       "    'id': '0WiVOUns047vLLJ4Dr4pgl',\n",
       "    'images': [{'height': None,\n",
       "      'url': 'https://pl.scdn.co/images/pl/default/d6edda583a0f182c63c905d3c1b88830d06c1278',\n",
       "      'width': None}],\n",
       "    'name': 'Electric Jazz Vibes',\n",
       "    'owner': {'display_name': 'Anthony Krista-Kelsey',\n",
       "     'external_urls': {'spotify': 'https://open.spotify.com/user/12122845089'},\n",
       "     'href': 'https://api.spotify.com/v1/users/12122845089',\n",
       "     'id': '12122845089',\n",
       "     'type': 'user',\n",
       "     'uri': 'spotify:user:12122845089'},\n",
       "    'primary_color': None,\n",
       "    'public': None,\n",
       "    'snapshot_id': 'MTQ5LDkyYzc4MjgyYTZiM2UzMjRjNjRjMTUzODdhNDE3ODlmYWFmMDJiZWQ=',\n",
       "    'tracks': {'href': 'https://api.spotify.com/v1/playlists/0WiVOUns047vLLJ4Dr4pgl/tracks',\n",
       "     'total': 64},\n",
       "    'type': 'playlist',\n",
       "    'uri': 'spotify:playlist:0WiVOUns047vLLJ4Dr4pgl'},\n",
       "   {'collaborative': False,\n",
       "    'external_urls': {'spotify': 'https://open.spotify.com/playlist/0NRciY2TbSI7j5wY7w0mDi'},\n",
       "    'href': 'https://api.spotify.com/v1/playlists/0NRciY2TbSI7j5wY7w0mDi',\n",
       "    'id': '0NRciY2TbSI7j5wY7w0mDi',\n",
       "    'images': [{'height': None,\n",
       "      'url': 'https://pl.scdn.co/images/pl/default/78b06483a961d9941efa7d42388459ab414fbd4c',\n",
       "      'width': None}],\n",
       "    'name': 'Coffee Shop Jazz Vibes',\n",
       "    'owner': {'display_name': 'Tony Zapnow',\n",
       "     'external_urls': {'spotify': 'https://open.spotify.com/user/128510038'},\n",
       "     'href': 'https://api.spotify.com/v1/users/128510038',\n",
       "     'id': '128510038',\n",
       "     'type': 'user',\n",
       "     'uri': 'spotify:user:128510038'},\n",
       "    'primary_color': None,\n",
       "    'public': None,\n",
       "    'snapshot_id': 'MjkwLDZiZTViZTE2NzBmNjgxOTU4YTdlM2RkNTQ0OTc3YTNhZTVhODJlM2M=',\n",
       "    'tracks': {'href': 'https://api.spotify.com/v1/playlists/0NRciY2TbSI7j5wY7w0mDi/tracks',\n",
       "     'total': 200},\n",
       "    'type': 'playlist',\n",
       "    'uri': 'spotify:playlist:0NRciY2TbSI7j5wY7w0mDi'},\n",
       "   {'collaborative': False,\n",
       "    'external_urls': {'spotify': 'https://open.spotify.com/playlist/4BskLWzsPnwHrn59NZjhAB'},\n",
       "    'href': 'https://api.spotify.com/v1/playlists/4BskLWzsPnwHrn59NZjhAB',\n",
       "    'id': '4BskLWzsPnwHrn59NZjhAB',\n",
       "    'images': [{'height': None,\n",
       "      'url': 'https://pl.scdn.co/images/pl/default/1541063845a07bc85eccda1c3da6e98c244e8aa2',\n",
       "      'width': None}],\n",
       "    'name': 'Anime Beats - Lofi Beats & Jazzy Vibes',\n",
       "    'owner': {'display_name': 'aofd3',\n",
       "     'external_urls': {'spotify': 'https://open.spotify.com/user/aofd3'},\n",
       "     'href': 'https://api.spotify.com/v1/users/aofd3',\n",
       "     'id': 'aofd3',\n",
       "     'type': 'user',\n",
       "     'uri': 'spotify:user:aofd3'},\n",
       "    'primary_color': None,\n",
       "    'public': None,\n",
       "    'snapshot_id': 'MzQxLDQ1MDdkYjIzNjVkOTViNmRjMDcwMTQwMmYwMzgxOTUxNjExYzRlYTU=',\n",
       "    'tracks': {'href': 'https://api.spotify.com/v1/playlists/4BskLWzsPnwHrn59NZjhAB/tracks',\n",
       "     'total': 70},\n",
       "    'type': 'playlist',\n",
       "    'uri': 'spotify:playlist:4BskLWzsPnwHrn59NZjhAB'},\n",
       "   {'collaborative': False,\n",
       "    'external_urls': {'spotify': 'https://open.spotify.com/playlist/1ukrstmv5yCjQ868DuOsy8'},\n",
       "    'href': 'https://api.spotify.com/v1/playlists/1ukrstmv5yCjQ868DuOsy8',\n",
       "    'id': '1ukrstmv5yCjQ868DuOsy8',\n",
       "    'images': [{'height': None,\n",
       "      'url': 'https://pl.scdn.co/images/pl/default/70493b180f666012cb3d0c2dcdbac34d04b8dbcf',\n",
       "      'width': None}],\n",
       "    'name': 'Lush Jazz Vibes',\n",
       "    'owner': {'display_name': 'nighthink',\n",
       "     'external_urls': {'spotify': 'https://open.spotify.com/user/nighthink'},\n",
       "     'href': 'https://api.spotify.com/v1/users/nighthink',\n",
       "     'id': 'nighthink',\n",
       "     'type': 'user',\n",
       "     'uri': 'spotify:user:nighthink'},\n",
       "    'primary_color': None,\n",
       "    'public': None,\n",
       "    'snapshot_id': 'MjU3LDY5NDlhM2I3OWE1NDJjZGM5ZjllNWRjYzkxZDNiNGNkOTM4MzFlNTA=',\n",
       "    'tracks': {'href': 'https://api.spotify.com/v1/playlists/1ukrstmv5yCjQ868DuOsy8/tracks',\n",
       "     'total': 2373},\n",
       "    'type': 'playlist',\n",
       "    'uri': 'spotify:playlist:1ukrstmv5yCjQ868DuOsy8'}],\n",
       "  'limit': 10,\n",
       "  'next': 'https://api.spotify.com/v1/search?query=Jazz+Vibes&type=playlist&market=US&offset=10&limit=10',\n",
       "  'offset': 0,\n",
       "  'previous': None,\n",
       "  'total': 1883}}"
      ]
     },
     "execution_count": 8,
     "metadata": {},
     "output_type": "execute_result"
    }
   ],
   "source": [
    "sp.search('Jazz Vibes', type='playlist')"
   ]
  },
  {
   "cell_type": "markdown",
   "metadata": {},
   "source": [
    "`sp.search` defaults to returning the first 10 results that match the search query, but if you want a more accurate search you can search music by their id or uri. To do this you can go to the spotify app and find the album, artist, playlist, or track and click on the three dots, hit **Share** and finally **Copy Spotify URI**"
   ]
  },
  {
   "cell_type": "markdown",
   "metadata": {},
   "source": [
    "![](uri.png)"
   ]
  },
  {
   "cell_type": "markdown",
   "metadata": {},
   "source": [
    "# Searching for a playlist by its ID\n",
    "\n",
    "Just follow the steps above to get the URI, which in the case of Jazz Vibes is **spotify:playlist:37i9dQZF1DX0SM0LYsmbMT**"
   ]
  },
  {
   "cell_type": "code",
   "execution_count": 9,
   "metadata": {},
   "outputs": [
    {
     "name": "stdout",
     "output_type": "stream",
     "text": [
      "<class 'dict'>\n"
     ]
    }
   ],
   "source": [
    "playlist_info = sp.user_playlist(user_id, playlist_id='spotify:playlist:37i9dQZF1DX0SM0LYsmbMT')\n",
    "print(type(playlist_info))"
   ]
  },
  {
   "cell_type": "markdown",
   "metadata": {},
   "source": [
    "We see that the results are a dictionary with a lot of information we can narrow down our search by looking at the keys lets try to compile a list of all the songs and their associated ids in the playlist"
   ]
  },
  {
   "cell_type": "code",
   "execution_count": 10,
   "metadata": {},
   "outputs": [
    {
     "data": {
      "text/plain": [
       "dict_keys(['collaborative', 'description', 'external_urls', 'followers', 'href', 'id', 'images', 'name', 'owner', 'primary_color', 'public', 'snapshot_id', 'tracks', 'type', 'uri'])"
      ]
     },
     "execution_count": 10,
     "metadata": {},
     "output_type": "execute_result"
    }
   ],
   "source": [
    "# tracks seems like the most reasonable place to search for the track names / ids\n",
    "# the first level 'name' and 'id' keys will return the name and id of the playlist itself\n",
    "playlist_info.keys()"
   ]
  },
  {
   "cell_type": "code",
   "execution_count": 11,
   "metadata": {},
   "outputs": [
    {
     "data": {
      "text/plain": [
       "dict_keys(['href', 'items', 'limit', 'next', 'offset', 'previous', 'total'])"
      ]
     },
     "execution_count": 11,
     "metadata": {},
     "output_type": "execute_result"
    }
   ],
   "source": [
    "playlist_info['tracks'].keys()"
   ]
  },
  {
   "cell_type": "code",
   "execution_count": 12,
   "metadata": {
    "scrolled": false
   },
   "outputs": [
    {
     "name": "stdout",
     "output_type": "stream",
     "text": [
      "<class 'list'>\n",
      "100\n"
     ]
    },
    {
     "data": {
      "text/plain": [
       "{'added_at': '2019-08-02T10:26:23Z',\n",
       " 'added_by': {'external_urls': {'spotify': 'https://open.spotify.com/user/'},\n",
       "  'href': 'https://api.spotify.com/v1/users/',\n",
       "  'id': '',\n",
       "  'type': 'user',\n",
       "  'uri': 'spotify:user:'},\n",
       " 'is_local': False,\n",
       " 'primary_color': None,\n",
       " 'track': {'album': {'album_type': 'single',\n",
       "   'artists': [{'external_urls': {'spotify': 'https://open.spotify.com/artist/4smeBjKru2y3oeQkGSfotv'},\n",
       "     'href': 'https://api.spotify.com/v1/artists/4smeBjKru2y3oeQkGSfotv',\n",
       "     'id': '4smeBjKru2y3oeQkGSfotv',\n",
       "     'name': '7apes',\n",
       "     'type': 'artist',\n",
       "     'uri': 'spotify:artist:4smeBjKru2y3oeQkGSfotv'}],\n",
       "   'available_markets': ['AD',\n",
       "    'AE',\n",
       "    'AR',\n",
       "    'AT',\n",
       "    'AU',\n",
       "    'BE',\n",
       "    'BG',\n",
       "    'BH',\n",
       "    'BO',\n",
       "    'BR',\n",
       "    'CA',\n",
       "    'CH',\n",
       "    'CL',\n",
       "    'CO',\n",
       "    'CR',\n",
       "    'CY',\n",
       "    'CZ',\n",
       "    'DE',\n",
       "    'DK',\n",
       "    'DO',\n",
       "    'DZ',\n",
       "    'EC',\n",
       "    'EE',\n",
       "    'EG',\n",
       "    'ES',\n",
       "    'FI',\n",
       "    'FR',\n",
       "    'GB',\n",
       "    'GR',\n",
       "    'GT',\n",
       "    'HK',\n",
       "    'HN',\n",
       "    'HU',\n",
       "    'ID',\n",
       "    'IE',\n",
       "    'IL',\n",
       "    'IN',\n",
       "    'IS',\n",
       "    'IT',\n",
       "    'JO',\n",
       "    'JP',\n",
       "    'KW',\n",
       "    'LB',\n",
       "    'LI',\n",
       "    'LT',\n",
       "    'LU',\n",
       "    'LV',\n",
       "    'MA',\n",
       "    'MC',\n",
       "    'MT',\n",
       "    'MX',\n",
       "    'MY',\n",
       "    'NI',\n",
       "    'NL',\n",
       "    'NO',\n",
       "    'NZ',\n",
       "    'OM',\n",
       "    'PA',\n",
       "    'PE',\n",
       "    'PH',\n",
       "    'PL',\n",
       "    'PS',\n",
       "    'PT',\n",
       "    'PY',\n",
       "    'QA',\n",
       "    'RO',\n",
       "    'SA',\n",
       "    'SE',\n",
       "    'SG',\n",
       "    'SK',\n",
       "    'SV',\n",
       "    'TH',\n",
       "    'TN',\n",
       "    'TR',\n",
       "    'TW',\n",
       "    'US',\n",
       "    'UY',\n",
       "    'VN',\n",
       "    'ZA'],\n",
       "   'external_urls': {'spotify': 'https://open.spotify.com/album/0b5fGd2uojcaID4Zrh5QYI'},\n",
       "   'href': 'https://api.spotify.com/v1/albums/0b5fGd2uojcaID4Zrh5QYI',\n",
       "   'id': '0b5fGd2uojcaID4Zrh5QYI',\n",
       "   'images': [{'height': 640,\n",
       "     'url': 'https://i.scdn.co/image/03942f70521a36c567a416d3f40950058c6b67c7',\n",
       "     'width': 640},\n",
       "    {'height': 300,\n",
       "     'url': 'https://i.scdn.co/image/53c940e08c093a3bd4ea5c79543af357dd77e2e3',\n",
       "     'width': 300},\n",
       "    {'height': 64,\n",
       "     'url': 'https://i.scdn.co/image/c71ff7c4bc57bb7bc9a9cffc1f1749390576dde5',\n",
       "     'width': 64}],\n",
       "   'name': 'Glow',\n",
       "   'release_date': '2019-07-19',\n",
       "   'release_date_precision': 'day',\n",
       "   'total_tracks': 1,\n",
       "   'type': 'album',\n",
       "   'uri': 'spotify:album:0b5fGd2uojcaID4Zrh5QYI'},\n",
       "  'artists': [{'external_urls': {'spotify': 'https://open.spotify.com/artist/4smeBjKru2y3oeQkGSfotv'},\n",
       "    'href': 'https://api.spotify.com/v1/artists/4smeBjKru2y3oeQkGSfotv',\n",
       "    'id': '4smeBjKru2y3oeQkGSfotv',\n",
       "    'name': '7apes',\n",
       "    'type': 'artist',\n",
       "    'uri': 'spotify:artist:4smeBjKru2y3oeQkGSfotv'}],\n",
       "  'available_markets': ['AD',\n",
       "   'AE',\n",
       "   'AR',\n",
       "   'AT',\n",
       "   'AU',\n",
       "   'BE',\n",
       "   'BG',\n",
       "   'BH',\n",
       "   'BO',\n",
       "   'BR',\n",
       "   'CA',\n",
       "   'CH',\n",
       "   'CL',\n",
       "   'CO',\n",
       "   'CR',\n",
       "   'CY',\n",
       "   'CZ',\n",
       "   'DE',\n",
       "   'DK',\n",
       "   'DO',\n",
       "   'DZ',\n",
       "   'EC',\n",
       "   'EE',\n",
       "   'EG',\n",
       "   'ES',\n",
       "   'FI',\n",
       "   'FR',\n",
       "   'GB',\n",
       "   'GR',\n",
       "   'GT',\n",
       "   'HK',\n",
       "   'HN',\n",
       "   'HU',\n",
       "   'ID',\n",
       "   'IE',\n",
       "   'IL',\n",
       "   'IN',\n",
       "   'IS',\n",
       "   'IT',\n",
       "   'JO',\n",
       "   'JP',\n",
       "   'KW',\n",
       "   'LB',\n",
       "   'LI',\n",
       "   'LT',\n",
       "   'LU',\n",
       "   'LV',\n",
       "   'MA',\n",
       "   'MC',\n",
       "   'MT',\n",
       "   'MX',\n",
       "   'MY',\n",
       "   'NI',\n",
       "   'NL',\n",
       "   'NO',\n",
       "   'NZ',\n",
       "   'OM',\n",
       "   'PA',\n",
       "   'PE',\n",
       "   'PH',\n",
       "   'PL',\n",
       "   'PS',\n",
       "   'PT',\n",
       "   'PY',\n",
       "   'QA',\n",
       "   'RO',\n",
       "   'SA',\n",
       "   'SE',\n",
       "   'SG',\n",
       "   'SK',\n",
       "   'SV',\n",
       "   'TH',\n",
       "   'TN',\n",
       "   'TR',\n",
       "   'TW',\n",
       "   'US',\n",
       "   'UY',\n",
       "   'VN',\n",
       "   'ZA'],\n",
       "  'disc_number': 1,\n",
       "  'duration_ms': 117387,\n",
       "  'episode': False,\n",
       "  'explicit': False,\n",
       "  'external_ids': {'isrc': 'DEXZ61900017'},\n",
       "  'external_urls': {'spotify': 'https://open.spotify.com/track/2O0ZxPTJLVj1R8dZ0IjiM7'},\n",
       "  'href': 'https://api.spotify.com/v1/tracks/2O0ZxPTJLVj1R8dZ0IjiM7',\n",
       "  'id': '2O0ZxPTJLVj1R8dZ0IjiM7',\n",
       "  'is_local': False,\n",
       "  'name': 'Glow',\n",
       "  'popularity': 50,\n",
       "  'preview_url': 'https://p.scdn.co/mp3-preview/1c568770ca2670415b98637d673d325a22cc0d78?cid=ac1679f4db5844a99756058ff0d66d37',\n",
       "  'track': True,\n",
       "  'track_number': 1,\n",
       "  'type': 'track',\n",
       "  'uri': 'spotify:track:2O0ZxPTJLVj1R8dZ0IjiM7'},\n",
       " 'video_thumbnail': {'url': None}}"
      ]
     },
     "execution_count": 12,
     "metadata": {},
     "output_type": "execute_result"
    }
   ],
   "source": [
    "# items is the only key that yields more information, the rest just return a single value\n",
    "\n",
    "# items is a list where each item refers to a track\n",
    "print(type(playlist_info['tracks']['items']))\n",
    "print(len(playlist_info['tracks']['items']))\n",
    "playlist_info['tracks']['items'][0]"
   ]
  },
  {
   "cell_type": "code",
   "execution_count": 13,
   "metadata": {},
   "outputs": [
    {
     "data": {
      "text/plain": [
       "dict_keys(['added_at', 'added_by', 'is_local', 'primary_color', 'track', 'video_thumbnail'])"
      ]
     },
     "execution_count": 13,
     "metadata": {},
     "output_type": "execute_result"
    }
   ],
   "source": [
    "# 'track seems like the next most logical place to go'\n",
    "playlist_info['tracks']['items'][0].keys()"
   ]
  },
  {
   "cell_type": "code",
   "execution_count": 14,
   "metadata": {},
   "outputs": [
    {
     "data": {
      "text/plain": [
       "dict_keys(['album', 'artists', 'available_markets', 'disc_number', 'duration_ms', 'episode', 'explicit', 'external_ids', 'external_urls', 'href', 'id', 'is_local', 'name', 'popularity', 'preview_url', 'track', 'track_number', 'type', 'uri'])"
      ]
     },
     "execution_count": 14,
     "metadata": {},
     "output_type": "execute_result"
    }
   ],
   "source": [
    "# finally 'name' should give us the name of the first track in the playlist\n",
    "playlist_info['tracks']['items'][0]['track'].keys()"
   ]
  },
  {
   "cell_type": "code",
   "execution_count": 15,
   "metadata": {},
   "outputs": [
    {
     "data": {
      "text/plain": [
       "'Glow'"
      ]
     },
     "execution_count": 15,
     "metadata": {},
     "output_type": "execute_result"
    }
   ],
   "source": [
    "playlist_info['tracks']['items'][0]['track']['name']"
   ]
  },
  {
   "cell_type": "code",
   "execution_count": 16,
   "metadata": {},
   "outputs": [
    {
     "data": {
      "text/plain": [
       "'2O0ZxPTJLVj1R8dZ0IjiM7'"
      ]
     },
     "execution_count": 16,
     "metadata": {},
     "output_type": "execute_result"
    }
   ],
   "source": [
    "# and 'id' should give us the id of the first track\n",
    "playlist_info['tracks']['items'][0]['track']['id']"
   ]
  },
  {
   "cell_type": "markdown",
   "metadata": {},
   "source": [
    "Now that we know how to get the names and ids of every track in a playlist we can define a function where we input the playlist id and get two lists with the first containing the names and the second the ids"
   ]
  },
  {
   "cell_type": "code",
   "execution_count": 17,
   "metadata": {},
   "outputs": [],
   "source": [
    "def get_playlist_track_names_ids(playlist_id):\n",
    "    \"\"\"\n",
    "    This function returns a list of tuples where the first element of the tuple\n",
    "    are the names of every track and the second are the associated track ids. \n",
    "    \"\"\"\n",
    "    global user_id\n",
    "    playlist_info = sp.user_playlist(user_id, playlist_id=playlist_id)\n",
    "    tracks = playlist_info['tracks']['items']\n",
    "    names, ids = [], []\n",
    "    \n",
    "    for track in tracks:\n",
    "        names.append(track['track']['name'])\n",
    "        ids.append(track['track']['id'])\n",
    "    \n",
    "    return list(zip(names, ids))"
   ]
  },
  {
   "cell_type": "code",
   "execution_count": 18,
   "metadata": {
    "scrolled": true
   },
   "outputs": [
    {
     "data": {
      "text/plain": [
       "[('Glow', '2O0ZxPTJLVj1R8dZ0IjiM7'),\n",
       " ('Coral Dreams', '2QLoxnf8H9MVHdlJt6l3Pe'),\n",
       " ('Teñido', '3bhM9Ep1gSIqnBN84gaIgW'),\n",
       " ('Byrds', '4j4XQzNbPRXTNi3CJdsT5g'),\n",
       " ('July - Balloona', '34spe7AN0kfuw7TbO3zmpz'),\n",
       " ('Blue Skies', '5sT1eylxrupi2gOCtGjvU9'),\n",
       " ('sandewish', '1GfkXtNVCaWXOjH30MpbXN'),\n",
       " ('gorilla glue', '54hTBhEcW29Bt67Q0jYeQN'),\n",
       " ('4:20 PM', '4G2WtXPgkDl0dnwzoBbBSj'),\n",
       " ('drowsy', '3WmFQlzbNDp0EaWnRU7tIV')]"
      ]
     },
     "execution_count": 18,
     "metadata": {},
     "output_type": "execute_result"
    }
   ],
   "source": [
    "songs = get_playlist_track_names_ids('spotify:playlist:37i9dQZF1DX0SM0LYsmbMT')\n",
    "songs[:10]"
   ]
  },
  {
   "cell_type": "markdown",
   "metadata": {},
   "source": [
    "And if need be we can unzip this into two lists of names and ids"
   ]
  },
  {
   "cell_type": "code",
   "execution_count": 19,
   "metadata": {},
   "outputs": [
    {
     "name": "stdout",
     "output_type": "stream",
     "text": [
      "('Glow', 'Coral Dreams', 'Teñido')\n",
      "('2O0ZxPTJLVj1R8dZ0IjiM7', '2QLoxnf8H9MVHdlJt6l3Pe', '3bhM9Ep1gSIqnBN84gaIgW')\n"
     ]
    }
   ],
   "source": [
    "names, ids = zip(*songs)\n",
    "print(names[:3])\n",
    "print(ids[:3])"
   ]
  },
  {
   "cell_type": "markdown",
   "metadata": {},
   "source": [
    "#### We now know how to get the songs from a playlist the process to get songs from albums and artists are slightly different but we can use the same workflow to narrow down where to search in the dictionary for the information you want."
   ]
  },
  {
   "cell_type": "code",
   "execution_count": null,
   "metadata": {},
   "outputs": [],
   "source": []
  }
 ],
 "metadata": {
  "kernelspec": {
   "display_name": "Python 3",
   "language": "python",
   "name": "python3"
  },
  "language_info": {
   "codemirror_mode": {
    "name": "ipython",
    "version": 3
   },
   "file_extension": ".py",
   "mimetype": "text/x-python",
   "name": "python",
   "nbconvert_exporter": "python",
   "pygments_lexer": "ipython3",
   "version": "3.7.1"
  }
 },
 "nbformat": 4,
 "nbformat_minor": 2
}
