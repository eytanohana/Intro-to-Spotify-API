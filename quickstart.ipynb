{
 "cells": [
  {
   "cell_type": "code",
   "execution_count": 2,
   "metadata": {},
   "outputs": [],
   "source": [
    "import spotipy\n",
    "import spotipy.util as util\n",
    "import os\n",
    "import webbrowser\n",
    "import pandas as pd\n",
    "import matplotlib.pyplot as plt\n",
    "import numpy as np\n",
    "import json\n",
    "\n",
    "# make the notebook automatically reload external python modules\n",
    "%load_ext autoreload\n",
    "%autoreload 2"
   ]
  },
  {
   "cell_type": "markdown",
   "metadata": {},
   "source": [
    "# Retrieving our credentials\n",
    "Before you can get started you need to head over to <https://developer.spotify.com/dashboard/> and create an app in order to be able to get an authorization token to be able to connect to your account. I put a tutorial on how to do this in the README if you haven't already seen it. If you have already done this step then all you need to do is save the client id, client secret, redirect uri, and your spotify username into a dictionary.\n",
    "\n",
    "creds = {'client_id': 'YOUR CLIENT ID', 'client_secret': 'YOUR CLIENT SECRET', \n",
    "        'redirect_uri': 'http://localhost/', 'username': 'YOUR USERNAME'}\n",
    "        \n",
    "I've saved mine into a text file credentials.txt so others can't gain access to my account so for your purposes you can ignore the cell directly below. I;m just loading the dictionary from the pre-saved text file.\n"
   ]
  },
  {
   "cell_type": "code",
   "execution_count": 5,
   "metadata": {},
   "outputs": [],
   "source": [
    "with open('credentials.txt') as fd:\n",
    "    creds = json.load(fd)"
   ]
  },
  {
   "cell_type": "markdown",
   "metadata": {},
   "source": [
    "## SCOPE\n",
    "\n",
    "You can define a scope which tells your application how much visibility/access you want to your account. Meaning different scopes give you different permissions. Some allow you to modify playlists while others only grant you reading abilities. You can read all about scopes [here](https://developer.spotify.com/documentation/general/guides/scopes/)"
   ]
  },
  {
   "cell_type": "code",
   "execution_count": 6,
   "metadata": {},
   "outputs": [],
   "source": [
    "# For the purposes of this notebook we only want to read from a users library\n",
    "scope = 'user-library-read'"
   ]
  },
  {
   "cell_type": "markdown",
   "metadata": {},
   "source": [
    "Now that we have our scope and credentials defined we can finally get our token in order to create our Spotiy object."
   ]
  },
  {
   "cell_type": "code",
   "execution_count": 7,
   "metadata": {},
   "outputs": [],
   "source": [
    "def get_token(scope, **kwargs):\n",
    "    try:\n",
    "        token = util.prompt_for_user_token(**kwargs, scope=scope)\n",
    "    except:\n",
    "        os.remove(f\".cache-{kwargs['username']}\")\n",
    "        token = util.prompt_for_user_token(**kwargs, scope=scope)\n",
    "    return token"
   ]
  },
  {
   "cell_type": "code",
   "execution_count": 8,
   "metadata": {},
   "outputs": [
    {
     "name": "stdout",
     "output_type": "stream",
     "text": [
      "\n",
      "\n",
      "            User authentication requires interaction with your\n",
      "            web browser. Once you enter your credentials and\n",
      "            give authorization, you will be redirected to\n",
      "            a url.  Paste that url you were directed to to\n",
      "            complete the authorization.\n",
      "\n",
      "        \n",
      "Opened https://accounts.spotify.com/authorize?client_id=ac1679f4db5844a99756058ff0d66d37&response_type=code&redirect_uri=http%3A%2F%2Flocalhost%2F&scope=user-library-read in your browser\n",
      "\n",
      "\n",
      "Enter the URL you were redirected to: http://localhost/?code=AQCltoxjdzGHvfsdbF2Nbnulscij92unfu3eXUTnBPfDDPI7TZDUK9Qkrt7UE9a2x_A_7rKubrPuRYBW8yHNr08K6bvKl92bEl13AJ-xsEKw98GNhK3NBODd9eFr_sQc2EQxeb-e1vaJrSwWvaB7kUbaL2fQlJ-H9Zhj5ohZbA4XHWzPGsj_-aYMTOhim5Yw6UL0xLXqwzEX6kRd\n",
      "\n",
      "\n"
     ]
    }
   ],
   "source": [
    "token = get_token(scope, **creds)"
   ]
  },
  {
   "cell_type": "code",
   "execution_count": 10,
   "metadata": {},
   "outputs": [],
   "source": [
    "# Now that we have our token we can create our Spotify object.\n",
    "sp = spotipy.Spotify(auth=token)"
   ]
  },
  {
   "cell_type": "code",
   "execution_count": 28,
   "metadata": {},
   "outputs": [],
   "source": [
    "# some of the methods require the user id so its a good idea to save it now \n",
    "user = sp.current_user()\n",
    "user_id = user['id']"
   ]
  },
  {
   "cell_type": "markdown",
   "metadata": {},
   "source": [
    "## Getting a list of all the songs in a playlist"
   ]
  },
  {
   "cell_type": "code",
   "execution_count": 40,
   "metadata": {},
   "outputs": [
    {
     "data": {
      "text/plain": [
       "dict_keys(['collaborative', 'external_urls', 'href', 'id', 'images', 'name', 'owner', 'primary_color', 'public', 'snapshot_id', 'tracks', 'type', 'uri'])"
      ]
     },
     "execution_count": 40,
     "metadata": {},
     "output_type": "execute_result"
    }
   ],
   "source": [
    "sp.search('Jazz Vibes', type='playlist')['playlists']['items'][0][]"
   ]
  },
  {
   "cell_type": "code",
   "execution_count": null,
   "metadata": {},
   "outputs": [],
   "source": []
  }
 ],
 "metadata": {
  "kernelspec": {
   "display_name": "Python 3",
   "language": "python",
   "name": "python3"
  },
  "language_info": {
   "codemirror_mode": {
    "name": "ipython",
    "version": 3
   },
   "file_extension": ".py",
   "mimetype": "text/x-python",
   "name": "python",
   "nbconvert_exporter": "python",
   "pygments_lexer": "ipython3",
   "version": "3.7.1"
  }
 },
 "nbformat": 4,
 "nbformat_minor": 2
}
