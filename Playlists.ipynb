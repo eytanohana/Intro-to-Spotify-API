{
 "cells": [
  {
   "cell_type": "code",
   "execution_count": 1,
   "metadata": {},
   "outputs": [],
   "source": [
    "import spotipy\n",
    "import spotipy.util as util\n",
    "import os\n",
    "from json import load\n",
    "\n",
    "# make the notebook automatically reload external python modules\n",
    "%load_ext autoreload\n",
    "%autoreload 2"
   ]
  },
  {
   "cell_type": "code",
   "execution_count": 2,
   "metadata": {},
   "outputs": [],
   "source": [
    "with open('credentials.txt') as fd:\n",
    "    creds = load(fd)"
   ]
  },
  {
   "cell_type": "code",
   "execution_count": 3,
   "metadata": {},
   "outputs": [],
   "source": [
    "# For the purposes of this notebook we only want to read from a users library\n",
    "scope = 'user-library-read, playlist-modify-public, playlist-modify-private'"
   ]
  },
  {
   "cell_type": "code",
   "execution_count": 4,
   "metadata": {},
   "outputs": [],
   "source": [
    "def get_token(scope, **kwargs):\n",
    "    try:\n",
    "        token = util.prompt_for_user_token(**kwargs, scope=scope)\n",
    "    except:\n",
    "        os.remove(f\".cache-{kwargs['username']}\")\n",
    "        token = util.prompt_for_user_token(**kwargs, scope=scope)\n",
    "    return token"
   ]
  },
  {
   "cell_type": "code",
   "execution_count": 5,
   "metadata": {
    "scrolled": true
   },
   "outputs": [],
   "source": [
    "token = get_token(scope, **creds)"
   ]
  },
  {
   "cell_type": "code",
   "execution_count": 6,
   "metadata": {},
   "outputs": [],
   "source": [
    "sp = spotipy.Spotify(auth=token)"
   ]
  },
  {
   "cell_type": "code",
   "execution_count": 7,
   "metadata": {},
   "outputs": [],
   "source": [
    "# some of the methods require your user id so its a good idea to save it now \n",
    "user = sp.current_user()\n",
    "user_id = user['id']"
   ]
  },
  {
   "cell_type": "code",
   "execution_count": 8,
   "metadata": {},
   "outputs": [],
   "source": [
    "def get_playlist_track_names_ids(playlist_id):\n",
    "    \"\"\"\n",
    "    This function returns two lists where the first is the names\n",
    "    of every track and the second are the associated track ids. \n",
    "    \"\"\"\n",
    "    global user_id\n",
    "    playlist_info = sp.user_playlist(user_id, playlist_id=playlist_id)\n",
    "    tracks = playlist_info['tracks']['items']\n",
    "    names, ids = [], []\n",
    "    \n",
    "    for track in tracks:\n",
    "        names.append(track['track']['name'])\n",
    "        ids.append(track['track']['id'])\n",
    "    \n",
    "    return names, ids"
   ]
  },
  {
   "cell_type": "code",
   "execution_count": 9,
   "metadata": {},
   "outputs": [],
   "source": [
    "def get_album_track_names_ids(album_id):\n",
    "    \"\"\"\n",
    "    This function returns two lists where the first has the names \n",
    "    of every track and the second are the associated track ids. \n",
    "    \"\"\"\n",
    "    album = sp.album_tracks(album_id)\n",
    "    names, ids = [], []\n",
    "    \n",
    "    for track in album['items']:\n",
    "        names.append(track['name'])\n",
    "        ids.append(track['id'])\n",
    "    \n",
    "    return names, ids"
   ]
  },
  {
   "cell_type": "code",
   "execution_count": 10,
   "metadata": {
    "scrolled": true
   },
   "outputs": [],
   "source": [
    "# Get all the track names and ids from the Chill Hits playlist\n",
    "names, ids = get_playlist_track_names_ids('spotify:playlist:37i9dQZF1DX4WYpdgoIcn6')"
   ]
  },
  {
   "cell_type": "markdown",
   "metadata": {},
   "source": [
    "## Reading all of a users playlists"
   ]
  },
  {
   "cell_type": "code",
   "execution_count": 11,
   "metadata": {},
   "outputs": [],
   "source": [
    "my_playlists = sp.current_user_playlists()"
   ]
  },
  {
   "cell_type": "code",
   "execution_count": 12,
   "metadata": {},
   "outputs": [
    {
     "data": {
      "text/plain": [
       "'For The Throne - Music Inspired by the HBO Series Game of Thrones'"
      ]
     },
     "execution_count": 12,
     "metadata": {},
     "output_type": "execute_result"
    }
   ],
   "source": [
    "my_playlists['items'][0]['name']"
   ]
  },
  {
   "cell_type": "code",
   "execution_count": 13,
   "metadata": {},
   "outputs": [
    {
     "name": "stdout",
     "output_type": "stream",
     "text": [
      "For The Throne - Music Inspired by the HBO Series Game of Thrones\n",
      "Osher showed me this\n",
      "Chill Hits\n",
      "Tastebreakers\n",
      "Jazztronica\n",
      "My Shazam Tracks\n",
      "Background\n",
      "Chill Vibes\n",
      "Rena's bomb DJ skils \n",
      "Jazz Vibes\n",
      "Peaceful Guitar\n",
      "Soul.House.Relax\n",
      "State of Jazz\n",
      "take a trip\n",
      "הכל סבבה\n",
      "Liked from Radio\n",
      "Avenged Sevenfold Discography\n",
      "Discover Weekly\n",
      "Fresh Finds\n",
      "Reggae/Hazy Dayz (#feelingGreen)\n",
      "Coffee Table Jazz\n",
      "Intense Studying\n",
      "Feel-Good Indie Rock\n",
      "Rock Ballads\n",
      "Sax and the City\n",
      "מלך\n",
      "Muki\n",
      "Travis Scott\n",
      "Calvin Harris\n",
      "Kid Cudi\n",
      "Unlike Pluto\n",
      "JAZZ\n",
      "Various Song Downloads\n",
      "Avenged Sevenfold\n",
      "John Mayer\n"
     ]
    }
   ],
   "source": [
    "for pl in my_playlists['items']:\n",
    "    print(pl['name'])"
   ]
  },
  {
   "cell_type": "markdown",
   "metadata": {},
   "source": [
    "## Creating a Playlist\n",
    "\n",
    "In this section well create our own playlist which will be a clone of the Chill Hits playlist.\n",
    "\n",
    "When you create a playlist the method `sp.user_playlist_create` returns a dictionary containing the information of the newly created playlist including its name and id. We can take the id to the add songs to the playlist and delete songs from it."
   ]
  },
  {
   "cell_type": "code",
   "execution_count": 14,
   "metadata": {
    "scrolled": false
   },
   "outputs": [
    {
     "data": {
      "text/plain": [
       "{'collaborative': False,\n",
       " 'description': None,\n",
       " 'external_urls': {'spotify': 'https://open.spotify.com/playlist/63PSKVCuLUyObFfvXfRBy3'},\n",
       " 'followers': {'href': None, 'total': 0},\n",
       " 'href': 'https://api.spotify.com/v1/playlists/63PSKVCuLUyObFfvXfRBy3',\n",
       " 'id': '63PSKVCuLUyObFfvXfRBy3',\n",
       " 'images': [],\n",
       " 'name': 'Chill Hits Clone',\n",
       " 'owner': {'display_name': 'eitanohana',\n",
       "  'external_urls': {'spotify': 'https://open.spotify.com/user/eitanohana'},\n",
       "  'href': 'https://api.spotify.com/v1/users/eitanohana',\n",
       "  'id': 'eitanohana',\n",
       "  'type': 'user',\n",
       "  'uri': 'spotify:user:eitanohana'},\n",
       " 'primary_color': None,\n",
       " 'public': True,\n",
       " 'snapshot_id': 'MSxkOWU5YjI4ZGQyMzFjZWU4NzExZmVkZmVmZWU2NDc1NmQ2ZDAwZmRk',\n",
       " 'tracks': {'href': 'https://api.spotify.com/v1/playlists/63PSKVCuLUyObFfvXfRBy3/tracks',\n",
       "  'items': [],\n",
       "  'limit': 100,\n",
       "  'next': None,\n",
       "  'offset': 0,\n",
       "  'previous': None,\n",
       "  'total': 0},\n",
       " 'type': 'playlist',\n",
       " 'uri': 'spotify:playlist:63PSKVCuLUyObFfvXfRBy3'}"
      ]
     },
     "execution_count": 14,
     "metadata": {},
     "output_type": "execute_result"
    }
   ],
   "source": [
    "# First, we create the playlist. It should appear in your playlists now in spotify.\n",
    "pl = sp.user_playlist_create(user_id, 'Chill Hits Clone')\n",
    "pl"
   ]
  },
  {
   "cell_type": "code",
   "execution_count": 15,
   "metadata": {},
   "outputs": [
    {
     "data": {
      "text/plain": [
       "'63PSKVCuLUyObFfvXfRBy3'"
      ]
     },
     "execution_count": 15,
     "metadata": {},
     "output_type": "execute_result"
    }
   ],
   "source": [
    "pl['id']"
   ]
  },
  {
   "cell_type": "code",
   "execution_count": 16,
   "metadata": {},
   "outputs": [],
   "source": [
    "# And we need to get the ids from the Chill Hits playlist\n",
    "_, track_ids = get_playlist_track_names_ids('spotify:playlist:37i9dQZF1DX4WYpdgoIcn6')"
   ]
  },
  {
   "cell_type": "code",
   "execution_count": 17,
   "metadata": {},
   "outputs": [
    {
     "data": {
      "text/plain": [
       "{'snapshot_id': 'MiwzZjViYzg1Y2RjMzM0ZDhlMzU1YzljNTRjN2ZhNjlmZTMwNjU2YTEw'}"
      ]
     },
     "execution_count": 17,
     "metadata": {},
     "output_type": "execute_result"
    }
   ],
   "source": [
    "# Now we add all the tracks to the newly created playlist\n",
    "sp.user_playlist_add_tracks(user_id, pl['id'], track_ids)"
   ]
  },
  {
   "cell_type": "code",
   "execution_count": null,
   "metadata": {},
   "outputs": [],
   "source": []
  }
 ],
 "metadata": {
  "kernelspec": {
   "display_name": "Python 3",
   "language": "python",
   "name": "python3"
  },
  "language_info": {
   "codemirror_mode": {
    "name": "ipython",
    "version": 3
   },
   "file_extension": ".py",
   "mimetype": "text/x-python",
   "name": "python",
   "nbconvert_exporter": "python",
   "pygments_lexer": "ipython3",
   "version": "3.7.1"
  }
 },
 "nbformat": 4,
 "nbformat_minor": 2
}
