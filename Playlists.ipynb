{
 "cells": [
  {
   "cell_type": "code",
   "execution_count": 1,
   "metadata": {},
   "outputs": [],
   "source": [
    "import spotipy\n",
    "import spotipy.util as util\n",
    "import os\n",
    "from json import load\n",
    "\n",
    "# make the notebook automatically reload external python modules\n",
    "%load_ext autoreload\n",
    "%autoreload 2"
   ]
  },
  {
   "cell_type": "code",
   "execution_count": 2,
   "metadata": {},
   "outputs": [],
   "source": [
    "with open('credentials.txt') as fd:\n",
    "    creds = load(fd)"
   ]
  },
  {
   "cell_type": "code",
   "execution_count": 3,
   "metadata": {},
   "outputs": [],
   "source": [
    "# For the purposes of this notebook we only want to read from a users library\n",
    "scope = 'user-library-read'"
   ]
  },
  {
   "cell_type": "code",
   "execution_count": 4,
   "metadata": {},
   "outputs": [],
   "source": [
    "def get_token(scope, **kwargs):\n",
    "    try:\n",
    "        token = util.prompt_for_user_token(**kwargs, scope=scope)\n",
    "    except:\n",
    "        os.remove(f\".cache-{kwargs['username']}\")\n",
    "        token = util.prompt_for_user_token(**kwargs, scope=scope)\n",
    "    return token"
   ]
  },
  {
   "cell_type": "code",
   "execution_count": 5,
   "metadata": {},
   "outputs": [],
   "source": [
    "token = get_token(scope, **creds)"
   ]
  },
  {
   "cell_type": "code",
   "execution_count": 6,
   "metadata": {},
   "outputs": [],
   "source": [
    "sp = spotipy.Spotify(auth=token)"
   ]
  },
  {
   "cell_type": "code",
   "execution_count": 8,
   "metadata": {},
   "outputs": [],
   "source": [
    "# some of the methods require your user id so its a good idea to save it now \n",
    "user = sp.current_user()\n",
    "user_id = user['id']"
   ]
  },
  {
   "cell_type": "code",
   "execution_count": 10,
   "metadata": {},
   "outputs": [],
   "source": [
    "def get_playlist_track_names_ids(playlist_id):\n",
    "    \"\"\"\n",
    "    This function returns two lists where the first is the names\n",
    "    of every track and the second are the associated track ids. \n",
    "    \"\"\"\n",
    "    global user_id\n",
    "    playlist_info = sp.user_playlist(user_id, playlist_id=playlist_id)\n",
    "    tracks = playlist_info['tracks']['items']\n",
    "    names, ids = [], []\n",
    "    \n",
    "    for track in tracks:\n",
    "        names.append(track['track']['name'])\n",
    "        ids.append(track['track']['id'])\n",
    "    \n",
    "    return names, ids"
   ]
  },
  {
   "cell_type": "code",
   "execution_count": 11,
   "metadata": {},
   "outputs": [],
   "source": [
    "def get_album_track_names_ids(album_id):\n",
    "    \"\"\"\n",
    "    This function returns two lists where the first has the names \n",
    "    of every track and the second are the associated track ids. \n",
    "    \"\"\"\n",
    "    album = sp.album_tracks(album_id)\n",
    "    names, ids = [], []\n",
    "    \n",
    "    for track in album['items']:\n",
    "        names.append(track['name'])\n",
    "        ids.append(track['id'])\n",
    "    \n",
    "    return names, ids"
   ]
  },
  {
   "cell_type": "code",
   "execution_count": 22,
   "metadata": {
    "scrolled": true
   },
   "outputs": [],
   "source": [
    "# Get all the track names and ids from the Chill Hits playlist\n",
    "names, ids = get_playlist_track_names_ids('spotify:playlist:37i9dQZF1DX4WYpdgoIcn6')"
   ]
  },
  {
   "cell_type": "markdown",
   "metadata": {},
   "source": [
    "## Reading all of a users playlists"
   ]
  },
  {
   "cell_type": "markdown",
   "metadata": {},
   "source": [
    "## Creating a Playlist"
   ]
  },
  {
   "cell_type": "code",
   "execution_count": null,
   "metadata": {},
   "outputs": [],
   "source": []
  }
 ],
 "metadata": {
  "kernelspec": {
   "display_name": "Python 3",
   "language": "python",
   "name": "python3"
  },
  "language_info": {
   "codemirror_mode": {
    "name": "ipython",
    "version": 3
   },
   "file_extension": ".py",
   "mimetype": "text/x-python",
   "name": "python",
   "nbconvert_exporter": "python",
   "pygments_lexer": "ipython3",
   "version": "3.7.1"
  }
 },
 "nbformat": 4,
 "nbformat_minor": 2
}
